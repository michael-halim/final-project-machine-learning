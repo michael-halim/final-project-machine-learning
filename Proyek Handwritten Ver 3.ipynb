{
 "cells": [
  {
   "cell_type": "code",
   "execution_count": 1,
   "metadata": {},
   "outputs": [],
   "source": [
    "import numpy as np \n",
    "import pandas as pd \n",
    "import matplotlib.pyplot as plt\n",
    "from sklearn.preprocessing import MinMaxScaler\n",
    "from keras.models import Sequential\n",
    "from keras.layers import Dense\n",
    "from keras.layers import Dropout\n",
    "from keras.layers import Flatten\n",
    "from keras.layers.convolutional import Conv2D\n",
    "from keras.layers.convolutional import MaxPooling2D\n",
    "from keras.utils import np_utils\n",
    "from sklearn.model_selection import train_test_split\n",
    "\n",
    "from keras.layers import MaxPool2D\n",
    "\n",
    "from keras.preprocessing.image import ImageDataGenerator\n"
   ]
  },
  {
   "cell_type": "code",
   "execution_count": 2,
   "metadata": {
    "scrolled": true
   },
   "outputs": [],
   "source": [
    "# load dataset\n",
    "data = pd.read_csv(\"A_Z Handwritten Data.csv\").astype('float32')\n"
   ]
  },
  {
   "cell_type": "code",
   "execution_count": 3,
   "metadata": {},
   "outputs": [
    {
     "data": {
      "text/html": [
       "<div>\n",
       "<style scoped>\n",
       "    .dataframe tbody tr th:only-of-type {\n",
       "        vertical-align: middle;\n",
       "    }\n",
       "\n",
       "    .dataframe tbody tr th {\n",
       "        vertical-align: top;\n",
       "    }\n",
       "\n",
       "    .dataframe thead th {\n",
       "        text-align: right;\n",
       "    }\n",
       "</style>\n",
       "<table border=\"1\" class=\"dataframe\">\n",
       "  <thead>\n",
       "    <tr style=\"text-align: right;\">\n",
       "      <th></th>\n",
       "      <th>0</th>\n",
       "      <th>0.1</th>\n",
       "      <th>0.2</th>\n",
       "      <th>0.3</th>\n",
       "      <th>0.4</th>\n",
       "      <th>0.5</th>\n",
       "      <th>0.6</th>\n",
       "      <th>0.7</th>\n",
       "      <th>0.8</th>\n",
       "      <th>0.9</th>\n",
       "      <th>...</th>\n",
       "      <th>0.562</th>\n",
       "      <th>0.563</th>\n",
       "      <th>0.564</th>\n",
       "      <th>0.565</th>\n",
       "      <th>0.566</th>\n",
       "      <th>0.567</th>\n",
       "      <th>0.568</th>\n",
       "      <th>0.569</th>\n",
       "      <th>0.570</th>\n",
       "      <th>0.571</th>\n",
       "    </tr>\n",
       "  </thead>\n",
       "  <tbody>\n",
       "    <tr>\n",
       "      <th>count</th>\n",
       "      <td>372037.000000</td>\n",
       "      <td>372037.0</td>\n",
       "      <td>372037.0</td>\n",
       "      <td>372037.0</td>\n",
       "      <td>372037.0</td>\n",
       "      <td>372037.0</td>\n",
       "      <td>372037.0</td>\n",
       "      <td>372037.0</td>\n",
       "      <td>372037.0</td>\n",
       "      <td>372037.0</td>\n",
       "      <td>...</td>\n",
       "      <td>372037.0</td>\n",
       "      <td>372037.0</td>\n",
       "      <td>372037.0</td>\n",
       "      <td>372037.0</td>\n",
       "      <td>372037.0</td>\n",
       "      <td>372037.0</td>\n",
       "      <td>372037.0</td>\n",
       "      <td>372037.0</td>\n",
       "      <td>372037.0</td>\n",
       "      <td>372037.0</td>\n",
       "    </tr>\n",
       "    <tr>\n",
       "      <th>mean</th>\n",
       "      <td>13.391642</td>\n",
       "      <td>0.0</td>\n",
       "      <td>0.0</td>\n",
       "      <td>0.0</td>\n",
       "      <td>0.0</td>\n",
       "      <td>0.0</td>\n",
       "      <td>0.0</td>\n",
       "      <td>0.0</td>\n",
       "      <td>0.0</td>\n",
       "      <td>0.0</td>\n",
       "      <td>...</td>\n",
       "      <td>0.0</td>\n",
       "      <td>0.0</td>\n",
       "      <td>0.0</td>\n",
       "      <td>0.0</td>\n",
       "      <td>0.0</td>\n",
       "      <td>0.0</td>\n",
       "      <td>0.0</td>\n",
       "      <td>0.0</td>\n",
       "      <td>0.0</td>\n",
       "      <td>0.0</td>\n",
       "    </tr>\n",
       "    <tr>\n",
       "      <th>std</th>\n",
       "      <td>6.762553</td>\n",
       "      <td>0.0</td>\n",
       "      <td>0.0</td>\n",
       "      <td>0.0</td>\n",
       "      <td>0.0</td>\n",
       "      <td>0.0</td>\n",
       "      <td>0.0</td>\n",
       "      <td>0.0</td>\n",
       "      <td>0.0</td>\n",
       "      <td>0.0</td>\n",
       "      <td>...</td>\n",
       "      <td>0.0</td>\n",
       "      <td>0.0</td>\n",
       "      <td>0.0</td>\n",
       "      <td>0.0</td>\n",
       "      <td>0.0</td>\n",
       "      <td>0.0</td>\n",
       "      <td>0.0</td>\n",
       "      <td>0.0</td>\n",
       "      <td>0.0</td>\n",
       "      <td>0.0</td>\n",
       "    </tr>\n",
       "    <tr>\n",
       "      <th>min</th>\n",
       "      <td>0.000000</td>\n",
       "      <td>0.0</td>\n",
       "      <td>0.0</td>\n",
       "      <td>0.0</td>\n",
       "      <td>0.0</td>\n",
       "      <td>0.0</td>\n",
       "      <td>0.0</td>\n",
       "      <td>0.0</td>\n",
       "      <td>0.0</td>\n",
       "      <td>0.0</td>\n",
       "      <td>...</td>\n",
       "      <td>0.0</td>\n",
       "      <td>0.0</td>\n",
       "      <td>0.0</td>\n",
       "      <td>0.0</td>\n",
       "      <td>0.0</td>\n",
       "      <td>0.0</td>\n",
       "      <td>0.0</td>\n",
       "      <td>0.0</td>\n",
       "      <td>0.0</td>\n",
       "      <td>0.0</td>\n",
       "    </tr>\n",
       "    <tr>\n",
       "      <th>25%</th>\n",
       "      <td>9.000000</td>\n",
       "      <td>0.0</td>\n",
       "      <td>0.0</td>\n",
       "      <td>0.0</td>\n",
       "      <td>0.0</td>\n",
       "      <td>0.0</td>\n",
       "      <td>0.0</td>\n",
       "      <td>0.0</td>\n",
       "      <td>0.0</td>\n",
       "      <td>0.0</td>\n",
       "      <td>...</td>\n",
       "      <td>0.0</td>\n",
       "      <td>0.0</td>\n",
       "      <td>0.0</td>\n",
       "      <td>0.0</td>\n",
       "      <td>0.0</td>\n",
       "      <td>0.0</td>\n",
       "      <td>0.0</td>\n",
       "      <td>0.0</td>\n",
       "      <td>0.0</td>\n",
       "      <td>0.0</td>\n",
       "    </tr>\n",
       "    <tr>\n",
       "      <th>50%</th>\n",
       "      <td>14.000000</td>\n",
       "      <td>0.0</td>\n",
       "      <td>0.0</td>\n",
       "      <td>0.0</td>\n",
       "      <td>0.0</td>\n",
       "      <td>0.0</td>\n",
       "      <td>0.0</td>\n",
       "      <td>0.0</td>\n",
       "      <td>0.0</td>\n",
       "      <td>0.0</td>\n",
       "      <td>...</td>\n",
       "      <td>0.0</td>\n",
       "      <td>0.0</td>\n",
       "      <td>0.0</td>\n",
       "      <td>0.0</td>\n",
       "      <td>0.0</td>\n",
       "      <td>0.0</td>\n",
       "      <td>0.0</td>\n",
       "      <td>0.0</td>\n",
       "      <td>0.0</td>\n",
       "      <td>0.0</td>\n",
       "    </tr>\n",
       "    <tr>\n",
       "      <th>75%</th>\n",
       "      <td>18.000000</td>\n",
       "      <td>0.0</td>\n",
       "      <td>0.0</td>\n",
       "      <td>0.0</td>\n",
       "      <td>0.0</td>\n",
       "      <td>0.0</td>\n",
       "      <td>0.0</td>\n",
       "      <td>0.0</td>\n",
       "      <td>0.0</td>\n",
       "      <td>0.0</td>\n",
       "      <td>...</td>\n",
       "      <td>0.0</td>\n",
       "      <td>0.0</td>\n",
       "      <td>0.0</td>\n",
       "      <td>0.0</td>\n",
       "      <td>0.0</td>\n",
       "      <td>0.0</td>\n",
       "      <td>0.0</td>\n",
       "      <td>0.0</td>\n",
       "      <td>0.0</td>\n",
       "      <td>0.0</td>\n",
       "    </tr>\n",
       "    <tr>\n",
       "      <th>max</th>\n",
       "      <td>25.000000</td>\n",
       "      <td>0.0</td>\n",
       "      <td>0.0</td>\n",
       "      <td>0.0</td>\n",
       "      <td>0.0</td>\n",
       "      <td>0.0</td>\n",
       "      <td>0.0</td>\n",
       "      <td>0.0</td>\n",
       "      <td>0.0</td>\n",
       "      <td>0.0</td>\n",
       "      <td>...</td>\n",
       "      <td>0.0</td>\n",
       "      <td>0.0</td>\n",
       "      <td>0.0</td>\n",
       "      <td>0.0</td>\n",
       "      <td>0.0</td>\n",
       "      <td>0.0</td>\n",
       "      <td>0.0</td>\n",
       "      <td>0.0</td>\n",
       "      <td>0.0</td>\n",
       "      <td>0.0</td>\n",
       "    </tr>\n",
       "  </tbody>\n",
       "</table>\n",
       "<p>8 rows × 785 columns</p>\n",
       "</div>"
      ],
      "text/plain": [
       "                   0       0.1       0.2       0.3       0.4       0.5  \\\n",
       "count  372037.000000  372037.0  372037.0  372037.0  372037.0  372037.0   \n",
       "mean       13.391642       0.0       0.0       0.0       0.0       0.0   \n",
       "std         6.762553       0.0       0.0       0.0       0.0       0.0   \n",
       "min         0.000000       0.0       0.0       0.0       0.0       0.0   \n",
       "25%         9.000000       0.0       0.0       0.0       0.0       0.0   \n",
       "50%        14.000000       0.0       0.0       0.0       0.0       0.0   \n",
       "75%        18.000000       0.0       0.0       0.0       0.0       0.0   \n",
       "max        25.000000       0.0       0.0       0.0       0.0       0.0   \n",
       "\n",
       "            0.6       0.7       0.8       0.9  ...     0.562     0.563  \\\n",
       "count  372037.0  372037.0  372037.0  372037.0  ...  372037.0  372037.0   \n",
       "mean        0.0       0.0       0.0       0.0  ...       0.0       0.0   \n",
       "std         0.0       0.0       0.0       0.0  ...       0.0       0.0   \n",
       "min         0.0       0.0       0.0       0.0  ...       0.0       0.0   \n",
       "25%         0.0       0.0       0.0       0.0  ...       0.0       0.0   \n",
       "50%         0.0       0.0       0.0       0.0  ...       0.0       0.0   \n",
       "75%         0.0       0.0       0.0       0.0  ...       0.0       0.0   \n",
       "max         0.0       0.0       0.0       0.0  ...       0.0       0.0   \n",
       "\n",
       "          0.564     0.565     0.566     0.567     0.568     0.569     0.570  \\\n",
       "count  372037.0  372037.0  372037.0  372037.0  372037.0  372037.0  372037.0   \n",
       "mean        0.0       0.0       0.0       0.0       0.0       0.0       0.0   \n",
       "std         0.0       0.0       0.0       0.0       0.0       0.0       0.0   \n",
       "min         0.0       0.0       0.0       0.0       0.0       0.0       0.0   \n",
       "25%         0.0       0.0       0.0       0.0       0.0       0.0       0.0   \n",
       "50%         0.0       0.0       0.0       0.0       0.0       0.0       0.0   \n",
       "75%         0.0       0.0       0.0       0.0       0.0       0.0       0.0   \n",
       "max         0.0       0.0       0.0       0.0       0.0       0.0       0.0   \n",
       "\n",
       "          0.571  \n",
       "count  372037.0  \n",
       "mean        0.0  \n",
       "std         0.0  \n",
       "min         0.0  \n",
       "25%         0.0  \n",
       "50%         0.0  \n",
       "75%         0.0  \n",
       "max         0.0  \n",
       "\n",
       "[8 rows x 785 columns]"
      ]
     },
     "execution_count": 3,
     "metadata": {},
     "output_type": "execute_result"
    }
   ],
   "source": [
    "data.tail()\n",
    "data.describe()"
   ]
  },
  {
   "cell_type": "code",
   "execution_count": 4,
   "metadata": {},
   "outputs": [],
   "source": [
    "X = data.drop('0',axis = 1) # axis=1 for dropping column (untuk jadi datanya)\n",
    "y = data['0'] # untuk jadi label prediksi\n"
   ]
  },
  {
   "cell_type": "code",
   "execution_count": 5,
   "metadata": {},
   "outputs": [],
   "source": [
    "import random\n",
    "X_baru = X.copy()\n",
    "for i in range(len(X_baru)):\n",
    "    row = X_baru.iloc[i] # current row\n",
    "    newrow = np.array(row.values.tolist()).reshape(28,28) #jadikan 2d\n",
    "    if random.randint(0,1) == 0:\n",
    "        newrow = np.flipud(newrow).flatten() # flip vertical\n",
    "    else:\n",
    "        newrow = np.fliplr(newrow).flatten() # flip horizontal\n",
    "    X_baru.iloc[i] = newrow # override linenya lagi\n"
   ]
  },
  {
   "cell_type": "code",
   "execution_count": 6,
   "metadata": {},
   "outputs": [],
   "source": [
    "#buat column baru buat flipped A-Z\n",
    "y_baru = y.copy()\n",
    "for i in range(len(y_baru)):\n",
    "    y_baru[i] += 26\n",
    "    \n"
   ]
  },
  {
   "cell_type": "code",
   "execution_count": 7,
   "metadata": {},
   "outputs": [
    {
     "name": "stdout",
     "output_type": "stream",
     "text": [
      "0          0.0\n",
      "1          0.0\n",
      "2          0.0\n",
      "3          0.0\n",
      "4          0.0\n",
      "          ... \n",
      "744069    51.0\n",
      "744070    51.0\n",
      "744071    51.0\n",
      "744072    51.0\n",
      "744073    51.0\n",
      "Name: 0, Length: 744074, dtype: float32\n"
     ]
    }
   ],
   "source": [
    "#append data\n",
    "X = X.append(X_baru, ignore_index=True)\n",
    "y = y.append(y_baru, ignore_index=True)\n",
    "print(y)"
   ]
  },
  {
   "cell_type": "code",
   "execution_count": 8,
   "metadata": {},
   "outputs": [
    {
     "name": "stdout",
     "output_type": "stream",
     "text": [
      "shape: (744074, 784)\n",
      "colums count: 784\n",
      "784 = 28 X 28\n"
     ]
    },
    {
     "data": {
      "text/html": [
       "<div>\n",
       "<style scoped>\n",
       "    .dataframe tbody tr th:only-of-type {\n",
       "        vertical-align: middle;\n",
       "    }\n",
       "\n",
       "    .dataframe tbody tr th {\n",
       "        vertical-align: top;\n",
       "    }\n",
       "\n",
       "    .dataframe thead th {\n",
       "        text-align: right;\n",
       "    }\n",
       "</style>\n",
       "<table border=\"1\" class=\"dataframe\">\n",
       "  <thead>\n",
       "    <tr style=\"text-align: right;\">\n",
       "      <th></th>\n",
       "      <th>0.1</th>\n",
       "      <th>0.2</th>\n",
       "      <th>0.3</th>\n",
       "      <th>0.4</th>\n",
       "      <th>0.5</th>\n",
       "      <th>0.6</th>\n",
       "      <th>0.7</th>\n",
       "      <th>0.8</th>\n",
       "      <th>0.9</th>\n",
       "      <th>0.10</th>\n",
       "      <th>...</th>\n",
       "      <th>0.562</th>\n",
       "      <th>0.563</th>\n",
       "      <th>0.564</th>\n",
       "      <th>0.565</th>\n",
       "      <th>0.566</th>\n",
       "      <th>0.567</th>\n",
       "      <th>0.568</th>\n",
       "      <th>0.569</th>\n",
       "      <th>0.570</th>\n",
       "      <th>0.571</th>\n",
       "    </tr>\n",
       "  </thead>\n",
       "  <tbody>\n",
       "    <tr>\n",
       "      <th>0</th>\n",
       "      <td>0.0</td>\n",
       "      <td>0.0</td>\n",
       "      <td>0.0</td>\n",
       "      <td>0.0</td>\n",
       "      <td>0.0</td>\n",
       "      <td>0.0</td>\n",
       "      <td>0.0</td>\n",
       "      <td>0.0</td>\n",
       "      <td>0.0</td>\n",
       "      <td>0.0</td>\n",
       "      <td>...</td>\n",
       "      <td>0.0</td>\n",
       "      <td>0.0</td>\n",
       "      <td>0.0</td>\n",
       "      <td>0.0</td>\n",
       "      <td>0.0</td>\n",
       "      <td>0.0</td>\n",
       "      <td>0.0</td>\n",
       "      <td>0.0</td>\n",
       "      <td>0.0</td>\n",
       "      <td>0.0</td>\n",
       "    </tr>\n",
       "    <tr>\n",
       "      <th>1</th>\n",
       "      <td>0.0</td>\n",
       "      <td>0.0</td>\n",
       "      <td>0.0</td>\n",
       "      <td>0.0</td>\n",
       "      <td>0.0</td>\n",
       "      <td>0.0</td>\n",
       "      <td>0.0</td>\n",
       "      <td>0.0</td>\n",
       "      <td>0.0</td>\n",
       "      <td>0.0</td>\n",
       "      <td>...</td>\n",
       "      <td>0.0</td>\n",
       "      <td>0.0</td>\n",
       "      <td>0.0</td>\n",
       "      <td>0.0</td>\n",
       "      <td>0.0</td>\n",
       "      <td>0.0</td>\n",
       "      <td>0.0</td>\n",
       "      <td>0.0</td>\n",
       "      <td>0.0</td>\n",
       "      <td>0.0</td>\n",
       "    </tr>\n",
       "    <tr>\n",
       "      <th>2</th>\n",
       "      <td>0.0</td>\n",
       "      <td>0.0</td>\n",
       "      <td>0.0</td>\n",
       "      <td>0.0</td>\n",
       "      <td>0.0</td>\n",
       "      <td>0.0</td>\n",
       "      <td>0.0</td>\n",
       "      <td>0.0</td>\n",
       "      <td>0.0</td>\n",
       "      <td>0.0</td>\n",
       "      <td>...</td>\n",
       "      <td>0.0</td>\n",
       "      <td>0.0</td>\n",
       "      <td>0.0</td>\n",
       "      <td>0.0</td>\n",
       "      <td>0.0</td>\n",
       "      <td>0.0</td>\n",
       "      <td>0.0</td>\n",
       "      <td>0.0</td>\n",
       "      <td>0.0</td>\n",
       "      <td>0.0</td>\n",
       "    </tr>\n",
       "    <tr>\n",
       "      <th>3</th>\n",
       "      <td>0.0</td>\n",
       "      <td>0.0</td>\n",
       "      <td>0.0</td>\n",
       "      <td>0.0</td>\n",
       "      <td>0.0</td>\n",
       "      <td>0.0</td>\n",
       "      <td>0.0</td>\n",
       "      <td>0.0</td>\n",
       "      <td>0.0</td>\n",
       "      <td>0.0</td>\n",
       "      <td>...</td>\n",
       "      <td>0.0</td>\n",
       "      <td>0.0</td>\n",
       "      <td>0.0</td>\n",
       "      <td>0.0</td>\n",
       "      <td>0.0</td>\n",
       "      <td>0.0</td>\n",
       "      <td>0.0</td>\n",
       "      <td>0.0</td>\n",
       "      <td>0.0</td>\n",
       "      <td>0.0</td>\n",
       "    </tr>\n",
       "    <tr>\n",
       "      <th>4</th>\n",
       "      <td>0.0</td>\n",
       "      <td>0.0</td>\n",
       "      <td>0.0</td>\n",
       "      <td>0.0</td>\n",
       "      <td>0.0</td>\n",
       "      <td>0.0</td>\n",
       "      <td>0.0</td>\n",
       "      <td>0.0</td>\n",
       "      <td>0.0</td>\n",
       "      <td>0.0</td>\n",
       "      <td>...</td>\n",
       "      <td>0.0</td>\n",
       "      <td>0.0</td>\n",
       "      <td>0.0</td>\n",
       "      <td>0.0</td>\n",
       "      <td>0.0</td>\n",
       "      <td>0.0</td>\n",
       "      <td>0.0</td>\n",
       "      <td>0.0</td>\n",
       "      <td>0.0</td>\n",
       "      <td>0.0</td>\n",
       "    </tr>\n",
       "  </tbody>\n",
       "</table>\n",
       "<p>5 rows × 784 columns</p>\n",
       "</div>"
      ],
      "text/plain": [
       "   0.1  0.2  0.3  0.4  0.5  0.6  0.7  0.8  0.9  0.10  ...  0.562  0.563  \\\n",
       "0  0.0  0.0  0.0  0.0  0.0  0.0  0.0  0.0  0.0   0.0  ...    0.0    0.0   \n",
       "1  0.0  0.0  0.0  0.0  0.0  0.0  0.0  0.0  0.0   0.0  ...    0.0    0.0   \n",
       "2  0.0  0.0  0.0  0.0  0.0  0.0  0.0  0.0  0.0   0.0  ...    0.0    0.0   \n",
       "3  0.0  0.0  0.0  0.0  0.0  0.0  0.0  0.0  0.0   0.0  ...    0.0    0.0   \n",
       "4  0.0  0.0  0.0  0.0  0.0  0.0  0.0  0.0  0.0   0.0  ...    0.0    0.0   \n",
       "\n",
       "   0.564  0.565  0.566  0.567  0.568  0.569  0.570  0.571  \n",
       "0    0.0    0.0    0.0    0.0    0.0    0.0    0.0    0.0  \n",
       "1    0.0    0.0    0.0    0.0    0.0    0.0    0.0    0.0  \n",
       "2    0.0    0.0    0.0    0.0    0.0    0.0    0.0    0.0  \n",
       "3    0.0    0.0    0.0    0.0    0.0    0.0    0.0    0.0  \n",
       "4    0.0    0.0    0.0    0.0    0.0    0.0    0.0    0.0  \n",
       "\n",
       "[5 rows x 784 columns]"
      ]
     },
     "execution_count": 8,
     "metadata": {},
     "output_type": "execute_result"
    }
   ],
   "source": [
    "print(\"shape:\", X.shape)\n",
    "print(\"colums count:\", len(X.iloc[0]))\n",
    "print(\"784 = 28 X 28\")\n",
    "\n",
    "X.head()"
   ]
  },
  {
   "cell_type": "code",
   "execution_count": 9,
   "metadata": {},
   "outputs": [
    {
     "data": {
      "text/plain": [
       "0    0.0\n",
       "1    0.0\n",
       "2    0.0\n",
       "3    0.0\n",
       "4    0.0\n",
       "Name: 0, dtype: float32"
      ]
     },
     "execution_count": 9,
     "metadata": {},
     "output_type": "execute_result"
    }
   ],
   "source": [
    "y.head()"
   ]
  },
  {
   "cell_type": "code",
   "execution_count": 10,
   "metadata": {},
   "outputs": [
    {
     "data": {
      "text/plain": [
       "744074"
      ]
     },
     "execution_count": 10,
     "metadata": {},
     "output_type": "execute_result"
    }
   ],
   "source": [
    "len(y)"
   ]
  },
  {
   "cell_type": "markdown",
   "metadata": {},
   "source": [
    "# Display Data"
   ]
  },
  {
   "cell_type": "code",
   "execution_count": 11,
   "metadata": {},
   "outputs": [
    {
     "data": {
      "image/png": "[encoded data removed]",
      "text/plain": [
       "<Figure size 864x720 with 16 Axes>"
      ]
     },
     "metadata": {
      "needs_background": "light"
     },
     "output_type": "display_data"
    }
   ],
   "source": [
    "from sklearn.utils import shuffle\n",
    "\n",
    "X_shuffle = shuffle(X)\n",
    "\n",
    "plt.figure(figsize = (12,10))\n",
    "row, colums = 4, 4\n",
    "for i in range(16):  \n",
    "    plt.subplot(colums, row, i+1)\n",
    "    plt.imshow(X_shuffle.iloc[i].values.reshape(28,28), cmap=\"Greys\", interpolation='nearest')\n",
    "plt.show()"
   ]
  },
  {
   "cell_type": "code",
   "execution_count": 12,
   "metadata": {},
   "outputs": [
    {
     "data": {
      "image/png": "[encoded data removed]",
      "text/plain": [
       "<Figure size 1440x1440 with 1 Axes>"
      ]
     },
     "metadata": {
      "needs_background": "light"
     },
     "output_type": "display_data"
    },
    {
     "name": "stdout",
     "output_type": "stream",
     "text": [
      "Huruf I =  1118\n",
      "Huruf F =  1164\n"
     ]
    }
   ],
   "source": [
    "word_dict = {0:'A',1:'B',2:'C',3:'D',4:'E',5:'F',6:'G',7:'H',8:'I',9:'J',10:'K',11:'L',12:'M',13:'N',14:'O',15:'P',16:'Q',17:'R',18:'S',19:'T',20:'U',21:'V',22:'W',23:'X', 24:'Y',25:'Z',26:'A_Flip',27:'B_Flip',28:'C_Flip',29:'D_Flip',30:'E_Flip',31:'F_Flip',32:'G_Flip',33:'H_Flip',34:'I_Flip',35:'J_Flip',36:'K_Flip',37:'L_Flip',38:'M_Flip',39:'N_Flip',40:'O_Flip',41:'P_Flip',42:'Q_Flip',43:'R_Flip',44:'S_Flip',45:'T_Flip',46:'U_Flip',47:'V_Flip', 48:'W_Flip',49:'X_Flip', 50:'Y_Flip',51:'Z_Flip'}\n",
    "y_int = np.int64(y)\n",
    "count = np.zeros(52, dtype='int') #a vector of size 26 with all 0 values\n",
    "for i in y_int:\n",
    "    count[i] +=1 #total count of each alphabet\n",
    "\n",
    "alphabets = []\n",
    "for i in word_dict.values():\n",
    "    alphabets.append(i) #all alphabets\n",
    "    \n",
    "fig, ax = plt.subplots(1,1, figsize=(20,20))\n",
    "ax.barh(alphabets, count)\n",
    "\n",
    "plt.xlabel(\"Number of elements \")\n",
    "plt.ylabel(\"Alphabets\")\n",
    "plt.grid()\n",
    "plt.show()\n",
    "\n",
    "print(\"Huruf I = \", count[8])\n",
    "print(\"Huruf F = \", count[5])"
   ]
  },
  {
   "cell_type": "markdown",
   "metadata": {},
   "source": [
    "# Data Preparation"
   ]
  },
  {
   "cell_type": "code",
   "execution_count": 13,
   "metadata": {},
   "outputs": [],
   "source": [
    "# splite the data\n",
    "X_train, X_test, y_train, y_test = train_test_split(X,y)\n",
    "\n",
    "# scale data\n",
    "standard_scaler = MinMaxScaler()\n",
    "standard_scaler.fit(X_train)\n",
    "\n",
    "X_train = standard_scaler.transform(X_train)\n",
    "X_test = standard_scaler.transform(X_test)"
   ]
  },
  {
   "cell_type": "code",
   "execution_count": 14,
   "metadata": {},
   "outputs": [
    {
     "name": "stdout",
     "output_type": "stream",
     "text": [
      "Data after scaler\n"
     ]
    },
    {
     "data": {
      "image/png": "[encoded data removed]",
      "text/plain": [
       "<Figure size 864x720 with 16 Axes>"
      ]
     },
     "metadata": {
      "needs_background": "light"
     },
     "output_type": "display_data"
    }
   ],
   "source": [
    "print(\"Data after scaler\")\n",
    "X_shuffle = shuffle(X_train)\n",
    "\n",
    "plt.figure(figsize = (12,10))\n",
    "row, colums = 4, 4\n",
    "for i in range(16):\n",
    "    plt.subplot(colums, row, i+1)\n",
    "    plt.imshow(X_shuffle[i].reshape(28,28),interpolation='nearest', cmap='Greys')\n",
    "plt.show()"
   ]
  },
  {
   "cell_type": "code",
   "execution_count": 15,
   "metadata": {},
   "outputs": [],
   "source": [
    "X_train = X_train.reshape(X_train.shape[0], 28, 28, 1).astype('float32')\n",
    "X_test = X_test.reshape(X_test.shape[0], 28, 28, 1).astype('float32')\n",
    "\n",
    "y_train = np_utils.to_categorical(y_train)\n",
    "y_test = np_utils.to_categorical(y_test)"
   ]
  },
  {
   "cell_type": "code",
   "execution_count": 16,
   "metadata": {},
   "outputs": [
    {
     "name": "stdout",
     "output_type": "stream",
     "text": [
      "0  :  A\n",
      "1  :  B\n",
      "2  :  C\n",
      "3  :  D\n",
      "4  :  E\n",
      "5  :  F\n",
      "6  :  G\n",
      "7  :  H\n",
      "8  :  I\n",
      "9  :  J\n",
      "10  :  K\n",
      "11  :  L\n",
      "12  :  M\n",
      "13  :  N\n",
      "14  :  O\n",
      "15  :  P\n",
      "16  :  Q\n",
      "17  :  R\n",
      "18  :  S\n",
      "19  :  T\n",
      "20  :  U\n",
      "21  :  V\n",
      "22  :  W\n",
      "23  :  X\n",
      "24  :  Y\n",
      "25  :  Z\n",
      "26  :  A_Flip\n",
      "27  :  B_Flip\n",
      "28  :  C_Flip\n",
      "29  :  D_Flip\n",
      "30  :  E_Flip\n",
      "31  :  F_Flip\n",
      "32  :  G_Flip\n",
      "33  :  H_Flip\n",
      "34  :  I_Flip\n",
      "35  :  J_Flip\n",
      "36  :  K_Flip\n",
      "37  :  L_Flip\n",
      "38  :  M_Flip\n",
      "39  :  N_Flip\n",
      "40  :  O_Flip\n",
      "41  :  P_Flip\n",
      "42  :  Q_Flip\n",
      "43  :  R_Flip\n",
      "44  :  S_Flip\n",
      "45  :  T_Flip\n",
      "46  :  U_Flip\n",
      "47  :  V_Flip\n",
      "48  :  W_Flip\n",
      "49  :  X_Flip\n",
      "50  :  Y_Flip\n",
      "51  :  Z_Flip\n"
     ]
    }
   ],
   "source": [
    "for key in word_dict.keys():\n",
    "    print(key, \" : \", word_dict[key])"
   ]
  },
  {
   "cell_type": "markdown",
   "metadata": {},
   "source": [
    "# Build, Compile, and Training Model"
   ]
  },
  {
   "cell_type": "markdown",
   "metadata": {},
   "source": [
    "# Model A (2 kali convolution)"
   ]
  },
  {
   "cell_type": "code",
   "execution_count": 134,
   "metadata": {},
   "outputs": [],
   "source": [
    "# Model A\n",
    "model = Sequential()\n",
    "model.add(Conv2D(32, kernel_size = (5, 5), input_shape=(28,28,1), activation = \"relu\",  padding = \"Same\"))\n",
    "model.add(Conv2D(32, kernel_size = (5, 5), activation = \"relu\",  padding = \"Same\"))\n",
    "model.add(MaxPool2D(pool_size = (2, 2)))\n",
    "model.add(Dropout(0.50))\n",
    "\n",
    "model.add(Conv2D(64, kernel_size = (5, 5), activation = \"relu\", padding = \"Same\"))\n",
    "model.add(Conv2D(64, kernel_size = (5, 5), activation = \"relu\", padding = \"Same\"))\n",
    "model.add(Conv2D(64, kernel_size = (5, 5), activation = \"relu\", padding = \"Same\"))\n",
    "model.add(MaxPool2D(pool_size = (2, 2)))\n",
    "model.add(Dropout(0.50))\n",
    "\n",
    "model.add(Flatten())\n",
    "model.add(Dense(128, activation = \"relu\"))\n",
    "model.add(Dropout(0.50))\n",
    "model.add(Dense(len(y.unique()), activation = \"softmax\"))\n",
    "model.compile(loss='categorical_crossentropy', optimizer='adam', metrics=['accuracy'])\n",
    "\n"
   ]
  },
  {
   "cell_type": "markdown",
   "metadata": {},
   "source": [
    "# Model B (1 kali convolution, fully functional layer + 1 Dense)"
   ]
  },
  {
   "cell_type": "code",
   "execution_count": 135,
   "metadata": {},
   "outputs": [],
   "source": [
    "# model = Sequential()\n",
    "# model.add(Conv2D(32, (5, 5), input_shape=(28, 28, 1), activation='relu', padding=\"Same\"))\n",
    "# model.add(MaxPooling2D(pool_size=(2, 2)))\n",
    "# model.add(Dropout(0.3))\n",
    "# model.add(Flatten())\n",
    "# model.add(Dense(128, activation='relu'))\n",
    "# model.add(Dense(len(y.unique()), activation='softmax'))\n",
    "# model.compile(loss='categorical_crossentropy', optimizer='adam', metrics=['accuracy'])\n"
   ]
  },
  {
   "cell_type": "markdown",
   "metadata": {},
   "source": [
    "# Model C (Reduced A)"
   ]
  },
  {
   "cell_type": "code",
   "execution_count": 136,
   "metadata": {},
   "outputs": [],
   "source": [
    "\n",
    "# model = Sequential()\n",
    "# model.add(Conv2D(32, kernel_size = (5, 5), input_shape=(28,28,1), activation = \"relu\",  padding = \"Same\"))\n",
    "# model.add(Conv2D(32, kernel_size = (5, 5), activation = \"relu\",  padding = \"Same\"))\n",
    "# model.add(MaxPool2D(pool_size = (2, 2)))\n",
    "# model.add(Dropout(0.50))\n",
    "\n",
    "# model.add(Flatten())\n",
    "# model.add(Dense(128, activation = \"relu\"))\n",
    "# model.add(Dropout(0.50))\n",
    "# model.add(Dense(len(y.unique()), activation = \"softmax\"))\n",
    "# model.compile(loss='categorical_crossentropy', optimizer='adam', metrics=['accuracy'])\n"
   ]
  },
  {
   "cell_type": "markdown",
   "metadata": {},
   "source": [
    "# Model D (?)"
   ]
  },
  {
   "cell_type": "code",
   "execution_count": 137,
   "metadata": {},
   "outputs": [],
   "source": [
    "# model = Sequential()\n",
    "# model.add(Conv2D(32, kernel_size = (5, 5), input_shape=(28,28,1), activation = \"relu\",  padding = \"Same\"))\n",
    "# model.add(Conv2D(32, kernel_size = (5, 5), activation = \"relu\",  padding = \"Same\"))\n",
    "# model.add(MaxPool2D(pool_size = (2, 2)))\n",
    "# model.add(Dropout(0.50))\n",
    "\n",
    "# model.add(Conv2D(64, kernel_size = (5, 5), activation = \"relu\", padding = \"Same\"))\n",
    "# model.add(Conv2D(64, kernel_size = (5, 5), activation = \"relu\", padding = \"Same\"))\n",
    "# model.add(Conv2D(64, kernel_size = (5, 5), activation = \"relu\", padding = \"Same\"))\n",
    "# model.add(MaxPool2D(pool_size = (2, 2)))\n",
    "# model.add(Dropout(0.50))\n",
    "\n",
    "# model.add(Conv2D(128, kernel_size = (5, 5), activation = \"relu\", padding = \"Same\"))\n",
    "# model.add(Conv2D(128, kernel_size = (5, 5), activation = \"relu\", padding = \"Same\"))\n",
    "# model.add(Conv2D(128, kernel_size = (5, 5), activation = \"relu\", padding = \"Same\"))\n",
    "# model.add(MaxPool2D(pool_size = (2, 2)))\n",
    "# model.add(Dropout(0.50))\n",
    "\n",
    "# model.add(Flatten())\n",
    "# model.add(Dense(128, activation = \"relu\"))\n",
    "# model.add(Dropout(0.50))\n",
    "# model.add(Dense(len(y.unique()), activation = \"softmax\"))\n",
    "# model.compile(loss='categorical_crossentropy', optimizer='adam', metrics=['accuracy'])"
   ]
  },
  {
   "cell_type": "markdown",
   "metadata": {},
   "source": [
    "## Data Augmentation (Flip Horizontal and Vertical)"
   ]
  },
  {
   "cell_type": "code",
   "execution_count": 138,
   "metadata": {},
   "outputs": [],
   "source": [
    "batch_size = 100\n",
    "epochsize = 5\n",
    "\n",
    "datagen = ImageDataGenerator(rotation_range = 45,  \n",
    "                             vertical_flip = True,\n",
    "                             horizontal_flip = True)\n",
    "\n",
    "train_batches = datagen.flow(X_train, y_train, batch_size = batch_size)\n",
    "val_batches = datagen.flow(X_test, y_test, batch_size = batch_size)"
   ]
  },
  {
   "cell_type": "code",
   "execution_count": 139,
   "metadata": {
    "scrolled": true
   },
   "outputs": [
    {
     "name": "stderr",
     "output_type": "stream",
     "text": [
      "<ipython-input-139-e674495041f8>:2: UserWarning: `Model.fit_generator` is deprecated and will be removed in a future version. Please use `Model.fit`, which supports generators.\n",
      "  history = model.fit_generator(train_batches,\n"
     ]
    },
    {
     "name": "stdout",
     "output_type": "stream",
     "text": [
      "Epoch 1/5\n",
      "5581/5581 [==============================] - 148s 26ms/step - loss: 1.4989 - accuracy: 0.3863 - val_loss: 1.0073 - val_accuracy: 0.4621\n",
      "Epoch 2/5\n",
      "5581/5581 [==============================] - 146s 26ms/step - loss: 1.1569 - accuracy: 0.4411 - val_loss: 0.9622 - val_accuracy: 0.4718\n",
      "Epoch 3/5\n",
      "5581/5581 [==============================] - 152s 27ms/step - loss: 1.1138 - accuracy: 0.4512 - val_loss: 0.9491 - val_accuracy: 0.4835\n",
      "Epoch 4/5\n",
      "5581/5581 [==============================] - 155s 28ms/step - loss: 1.0908 - accuracy: 0.4579 - val_loss: 0.9239 - val_accuracy: 0.4968\n",
      "Epoch 5/5\n",
      "5581/5581 [==============================] - 148s 26ms/step - loss: 1.0744 - accuracy: 0.4646 - val_loss: 0.9155 - val_accuracy: 0.4979\n"
     ]
    }
   ],
   "source": [
    "\n",
    "#fitting the model\n",
    "history = model.fit_generator(train_batches,\n",
    "                    epochs = epochsize,\n",
    "                    validation_data = val_batches)\n"
   ]
  },
  {
   "cell_type": "code",
   "execution_count": 140,
   "metadata": {},
   "outputs": [
    {
     "data": {
      "text/plain": [
       "\"import tensorflow as tf\\nmodel = tf.keras.models.load_model('model_hand.h5')\\nhistory = np.load('history.npy', allow_pickle='TRUE').item()\\nprint(history)\""
      ]
     },
     "execution_count": 140,
     "metadata": {},
     "output_type": "execute_result"
    }
   ],
   "source": [
    "\n",
    "# Load Model and History (Model Fit)\n",
    "'''import tensorflow as tf\n",
    "model = tf.keras.models.load_model('model_hand.h5')\n",
    "history = np.load('history.npy', allow_pickle='TRUE').item()\n",
    "print(history)'''\n"
   ]
  },
  {
   "cell_type": "code",
   "execution_count": 141,
   "metadata": {
    "scrolled": true
   },
   "outputs": [
    {
     "data": {
      "image/png": "[encoded data removed]",
      "text/plain": [
       "<Figure size 432x288 with 1 Axes>"
      ]
     },
     "metadata": {
      "needs_background": "light"
     },
     "output_type": "display_data"
    }
   ],
   "source": [
    "plt.plot(history.history['loss'])\n",
    "plt.plot(history.history['val_loss'])\n",
    "plt.title('Model loss')\n",
    "plt.ylabel('Loss')\n",
    "plt.xlabel('Epoch')\n",
    "plt.legend(['Train', 'Test'], loc='upper left')\n",
    "plt.show()"
   ]
  },
  {
   "cell_type": "code",
   "execution_count": 142,
   "metadata": {},
   "outputs": [
    {
     "name": "stdout",
     "output_type": "stream",
     "text": [
      "Model: \"sequential_2\"\n",
      "_________________________________________________________________\n",
      " Layer (type)                Output Shape              Param #   \n",
      "=================================================================\n",
      " conv2d_7 (Conv2D)           (None, 28, 28, 32)        832       \n",
      "                                                                 \n",
      " conv2d_8 (Conv2D)           (None, 28, 28, 32)        25632     \n",
      "                                                                 \n",
      " max_pooling2d_3 (MaxPooling  (None, 14, 14, 32)       0         \n",
      " 2D)                                                             \n",
      "                                                                 \n",
      " dropout_5 (Dropout)         (None, 14, 14, 32)        0         \n",
      "                                                                 \n",
      " conv2d_9 (Conv2D)           (None, 14, 14, 64)        51264     \n",
      "                                                                 \n",
      " conv2d_10 (Conv2D)          (None, 14, 14, 64)        102464    \n",
      "                                                                 \n",
      " conv2d_11 (Conv2D)          (None, 14, 14, 64)        102464    \n",
      "                                                                 \n",
      " max_pooling2d_4 (MaxPooling  (None, 7, 7, 64)         0         \n",
      " 2D)                                                             \n",
      "                                                                 \n",
      " dropout_6 (Dropout)         (None, 7, 7, 64)          0         \n",
      "                                                                 \n",
      " flatten_2 (Flatten)         (None, 3136)              0         \n",
      "                                                                 \n",
      " dense_4 (Dense)             (None, 128)               401536    \n",
      "                                                                 \n",
      " dropout_7 (Dropout)         (None, 128)               0         \n",
      "                                                                 \n",
      " dense_5 (Dense)             (None, 52)                6708      \n",
      "                                                                 \n",
      "=================================================================\n",
      "Total params: 690,900\n",
      "Trainable params: 690,900\n",
      "Non-trainable params: 0\n",
      "_________________________________________________________________\n"
     ]
    }
   ],
   "source": [
    "model.summary()\n",
    "model.save(r'model_hand.h5')\n",
    "\n",
    "np.save('history.npy', history.history)\n"
   ]
  },
  {
   "cell_type": "markdown",
   "metadata": {},
   "source": [
    "# Making Prediction"
   ]
  },
  {
   "cell_type": "code",
   "execution_count": 143,
   "metadata": {},
   "outputs": [
    {
     "data": {
      "image/png": "[encoded data removed]",
      "text/plain": [
       "<Figure size 576x648 with 9 Axes>"
      ]
     },
     "metadata": {
      "needs_background": "light"
     },
     "output_type": "display_data"
    }
   ],
   "source": [
    "fig, axes = plt.subplots(3,3, figsize=(8,9))\n",
    "axes = axes.flatten()\n",
    "\n",
    "for i,ax in enumerate(axes):\n",
    "    img = np.reshape(X_test[i], (28,28))\n",
    "    ax.imshow(img, cmap=\"Greys\")\n",
    "    pred = word_dict[np.argmax(y_test[i])]\n",
    "    ax.set_title(\"Prediction: \" + pred)\n",
    "    ax.grid()"
   ]
  },
  {
   "cell_type": "code",
   "execution_count": 144,
   "metadata": {},
   "outputs": [
    {
     "data": {
      "image/png": "[encoded data removed]",
      "text/plain": [
       "<Figure size 576x648 with 9 Axes>"
      ]
     },
     "metadata": {
      "needs_background": "light"
     },
     "output_type": "display_data"
    }
   ],
   "source": [
    "fig, axes = plt.subplots(3,3, figsize=(8,9))\n",
    "axes = axes.flatten()\n",
    "\n",
    "for i,ax in enumerate(axes):\n",
    "    img = np.reshape(X_test[i], (28,28)) # reshaping it for displaying\n",
    "    ax.imshow(img, cmap=\"Greys\")\n",
    "    img_final = np.reshape(img, (1,28,28,1)) # reshaping it for passing into model for prediction\n",
    "    pred = word_dict[np.argmax(model.predict(img_final))]\n",
    "    ax.set_title(\"Prediction: \"+pred)\n",
    "    ax.grid()"
   ]
  },
  {
   "cell_type": "code",
   "execution_count": 145,
   "metadata": {
    "scrolled": true
   },
   "outputs": [
    {
     "data": {
      "image/png": "[encoded data removed]",
      "text/plain": [
       "<Figure size 576x648 with 9 Axes>"
      ]
     },
     "metadata": {
      "needs_background": "light"
     },
     "output_type": "display_data"
    }
   ],
   "source": [
    "from PIL import Image, ImageOps\n",
    "\n",
    "fig, axes = plt.subplots(3,3, figsize=(8,9))\n",
    "axes = axes.flatten()\n",
    "\n",
    "for i,ax in enumerate(axes):\n",
    "    load_name = 'cek/Sample1/'+chr(i+65)+'.png'\n",
    "    img = Image.open(load_name)\n",
    "    img = img.convert(\"L\")\n",
    "    img = ImageOps.invert(img) # untuk white to black, black to white\n",
    "    #img = ImageOps.grayscale(img)\n",
    "    ax.imshow(img, cmap=\"Greys\")\n",
    "    img = np.reshape(img, (1,28,28,1))\n",
    "    pred = word_dict[np.argmax(model.predict(img))]\n",
    "    ax.set_title(\"Prediction: \"+pred)\n",
    "    ax.grid()"
   ]
  },
  {
   "cell_type": "code",
   "execution_count": 146,
   "metadata": {},
   "outputs": [
    {
     "name": "stdout",
     "output_type": "stream",
     "text": [
      "A = A_Flip\n",
      "B = B_Flip\n",
      "C = C\n",
      "D = D_Flip\n",
      "E = E\n",
      "F = E\n",
      "G = G\n",
      "H = H\n",
      "I = I\n",
      "J = J\n",
      "K = K_Flip\n",
      "L = L_Flip\n",
      "M = M_Flip\n",
      "N = N\n",
      "O = P_Flip\n",
      "P = B\n",
      "Q = Q\n",
      "R = R_Flip\n",
      "S = S_Flip\n",
      "T = J_Flip\n",
      "U = U_Flip\n",
      "V = U_Flip\n",
      "W = W\n",
      "X = X_Flip\n",
      "Y = Y_Flip\n",
      "Z = Z\n",
      "Prediksi benar = 0.8076923076923077\n"
     ]
    }
   ],
   "source": [
    "jumlahbenar = 0\n",
    "\n",
    "\n",
    "for i in range(26):\n",
    "    load_name = 'cek/Sample1/'+chr(i+65)+'.png'\n",
    "    img = Image.open(load_name)\n",
    "    img = ImageOps.grayscale(img)\n",
    "    img = ImageOps.invert(img)\n",
    "    img = np.asarray(img)\n",
    "    img = np.reshape(img, (1,28,28,1))\n",
    "    pred = word_dict[np.argmax(model.predict(img))]\n",
    "    if (chr(i+65) == pred or chr(i+65) + \"_Flip\" == pred):\n",
    "        jumlahbenar += 1\n",
    "    print(chr(i+65) + ' = ' + pred)\n",
    "    \n",
    "print(\"Prediksi benar = \" + str(jumlahbenar/26))"
   ]
  },
  {
   "cell_type": "code",
   "execution_count": 147,
   "metadata": {},
   "outputs": [
    {
     "name": "stdout",
     "output_type": "stream",
     "text": [
      "A = A_Flip\n",
      "B = B\n",
      "C = C_Flip\n",
      "D = D_Flip\n",
      "E = E\n",
      "F = R_Flip\n",
      "G = G\n",
      "H = H_Flip\n",
      "I = I_Flip\n",
      "J = J\n",
      "K = K_Flip\n",
      "L = J_Flip\n",
      "M = M_Flip\n",
      "N = N\n",
      "O = O_Flip\n",
      "P = R_Flip\n",
      "Q = Q\n",
      "R = R\n",
      "S = S_Flip\n",
      "T = K_Flip\n",
      "U = U_Flip\n",
      "V = U_Flip\n",
      "W = W\n",
      "X = X_Flip\n",
      "Y = R\n",
      "Z = Z\n",
      "Prediksi benar = 0.7692307692307693\n"
     ]
    }
   ],
   "source": [
    "jumlahbenar = 0\n",
    "\n",
    "for i in range(26):\n",
    "    load_name = 'cek/Sample2/'+chr(i+65)+'.png'\n",
    "    img = Image.open(load_name)\n",
    "    img = ImageOps.grayscale(img)\n",
    "    img = ImageOps.invert(img)\n",
    "    img = np.asarray(img)\n",
    "    img = np.reshape(img, (1,28,28,1))\n",
    "    pred = word_dict[np.argmax(model.predict(img))]\n",
    "    if (chr(i+65) == pred or chr(i+65) + \"_Flip\" == pred):\n",
    "        jumlahbenar += 1\n",
    "    print(chr(i+65) + ' = ' + pred)\n",
    "    \n",
    "print(\"Prediksi benar = \" + str(jumlahbenar/26))"
   ]
  },
  {
   "cell_type": "code",
   "execution_count": 148,
   "metadata": {},
   "outputs": [
    {
     "name": "stdout",
     "output_type": "stream",
     "text": [
      "A = A_Flip\n",
      "B = B_Flip\n",
      "C = S_Flip\n",
      "D = D_Flip\n",
      "E = B\n",
      "F = F_Flip\n",
      "G = B_Flip\n",
      "H = H\n",
      "I = U_Flip\n",
      "J = C_Flip\n",
      "K = K_Flip\n",
      "L = F_Flip\n",
      "M = W\n",
      "N = N\n",
      "O = Q\n",
      "P = B_Flip\n",
      "Q = Q\n",
      "R = R_Flip\n",
      "S = G\n",
      "T = K_Flip\n",
      "U = U_Flip\n",
      "V = N_Flip\n",
      "W = W\n",
      "X = X_Flip\n",
      "Y = R\n",
      "Z = B_Flip\n",
      "Prediksi benar = 0.46153846153846156\n"
     ]
    }
   ],
   "source": [
    "jumlahbenar = 0\n",
    "\n",
    "for i in range(26):\n",
    "    load_name = 'cek/Sample3/'+chr(i+65)+'.png'\n",
    "    img = Image.open(load_name)\n",
    "    img = ImageOps.grayscale(img)\n",
    "    img = ImageOps.invert(img)\n",
    "    img = np.asarray(img)\n",
    "    img = np.reshape(img, (1,28,28,1))\n",
    "    pred = word_dict[np.argmax(model.predict(img))]\n",
    "    if (chr(i+65) == pred or chr(i+65) + \"_Flip\" == pred):\n",
    "        jumlahbenar += 1\n",
    "    print(chr(i+65) + ' = ' + pred)\n",
    "    \n",
    "print(\"Prediksi benar = \" + str(jumlahbenar/26))"
   ]
  },
  {
   "cell_type": "code",
   "execution_count": 149,
   "metadata": {},
   "outputs": [
    {
     "name": "stdout",
     "output_type": "stream",
     "text": [
      "A = A_Flip\n",
      "B = B_Flip\n",
      "C = W\n",
      "D = D_Flip\n",
      "E = U\n",
      "F = X_Flip\n",
      "G = B\n",
      "H = H_Flip\n",
      "I = R_Flip\n",
      "J = J\n",
      "K = K_Flip\n",
      "L = Z\n",
      "M = W\n",
      "N = Z\n",
      "O = O\n",
      "P = R_Flip\n",
      "Q = Q\n",
      "R = R_Flip\n",
      "S = S_Flip\n",
      "T = K\n",
      "U = J_Flip\n",
      "V = Z_Flip\n",
      "W = E\n",
      "X = X_Flip\n",
      "Y = R_Flip\n",
      "Z = B_Flip\n",
      "Prediksi benar = 0.4230769230769231\n"
     ]
    }
   ],
   "source": [
    "jumlahbenar = 0\n",
    "\n",
    "for i in range(26):\n",
    "    load_name = 'cek/Sample4/'+chr(i+65)+'.png'\n",
    "    img = Image.open(load_name)\n",
    "    img = ImageOps.grayscale(img)\n",
    "    img = ImageOps.invert(img)\n",
    "    img = np.asarray(img)\n",
    "    img = np.reshape(img, (1,28,28,1))\n",
    "    pred = word_dict[np.argmax(model.predict(img))]\n",
    "    if (chr(i+65) == pred or chr(i+65) + \"_Flip\" == pred):\n",
    "        jumlahbenar += 1\n",
    "    print(chr(i+65) + ' = ' + pred)\n",
    "    \n",
    "print(\"Prediksi benar = \" + str(jumlahbenar/26))"
   ]
  },
  {
   "cell_type": "code",
   "execution_count": 150,
   "metadata": {},
   "outputs": [
    {
     "name": "stdout",
     "output_type": "stream",
     "text": [
      "A = A_Flip\n",
      "B = B\n",
      "C = C_Flip\n",
      "D = D_Flip\n",
      "E = B\n",
      "F = E\n",
      "G = G\n",
      "H = H\n",
      "I = I_Flip\n",
      "J = J\n",
      "K = K_Flip\n",
      "L = E_Flip\n",
      "M = M_Flip\n",
      "N = N\n",
      "O = O_Flip\n",
      "P = P_Flip\n",
      "Q = Q\n",
      "R = R_Flip\n",
      "S = S_Flip\n",
      "T = T\n",
      "U = Z_Flip\n",
      "V = V_Flip\n",
      "W = M_Flip\n",
      "X = X_Flip\n",
      "Y = R_Flip\n",
      "Z = E\n",
      "Prediksi benar = 0.7307692307692307\n"
     ]
    }
   ],
   "source": [
    "jumlahbenar = 0\n",
    "\n",
    "for i in range(26):\n",
    "    load_name = 'cek/Sample5/'+chr(i+65)+'.png'\n",
    "    img = Image.open(load_name)\n",
    "    img = ImageOps.grayscale(img)\n",
    "    img = ImageOps.invert(img)\n",
    "    img = np.asarray(img)\n",
    "    img = np.reshape(img, (1,28,28,1))\n",
    "    pred = word_dict[np.argmax(model.predict(img))]\n",
    "    if (chr(i+65) == pred or chr(i+65) + \"_Flip\" == pred):\n",
    "        jumlahbenar += 1\n",
    "    print(chr(i+65) + ' = ' + pred)\n",
    "    \n",
    "print(\"Prediksi benar = \" + str(jumlahbenar/26))"
   ]
  },
  {
   "cell_type": "code",
   "execution_count": 151,
   "metadata": {},
   "outputs": [
    {
     "name": "stdout",
     "output_type": "stream",
     "text": [
      "A = A_Flip\n",
      "B = B\n",
      "C = C\n",
      "D = D_Flip\n",
      "E = E\n",
      "F = R_Flip\n",
      "G = G\n",
      "H = H\n",
      "I = I_Flip\n",
      "J = J_Flip\n",
      "K = K_Flip\n",
      "L = L\n",
      "M = M_Flip\n",
      "N = N\n",
      "O = D_Flip\n",
      "P = R\n",
      "Q = Q\n",
      "R = R\n",
      "S = S_Flip\n",
      "T = T\n",
      "U = U_Flip\n",
      "V = U_Flip\n",
      "W = M_Flip\n",
      "X = X_Flip\n",
      "Y = K_Flip\n",
      "Z = S_Flip\n",
      "Prediksi benar = 0.7307692307692307\n"
     ]
    }
   ],
   "source": [
    "jumlahbenar = 0\n",
    "\n",
    "for i in range(26):\n",
    "    load_name = 'cek/Sample6/'+chr(i+65)+'.png'\n",
    "    img = Image.open(load_name)\n",
    "    img = ImageOps.grayscale(img)\n",
    "    img = ImageOps.invert(img)\n",
    "    img = np.asarray(img)\n",
    "    img = np.reshape(img, (1,28,28,1))\n",
    "    pred = word_dict[np.argmax(model.predict(img))]\n",
    "    if (chr(i+65) == pred or chr(i+65) + \"_Flip\" == pred):\n",
    "        jumlahbenar += 1\n",
    "    print(chr(i+65) + ' = ' + pred)\n",
    "    \n",
    "print(\"Prediksi benar = \" + str(jumlahbenar/26))"
   ]
  }
 ],
 "metadata": {
  "kernelspec": {
   "display_name": "Python 3",
   "language": "python",
   "name": "python3"
  },
  "language_info": {
   "codemirror_mode": {
    "name": "ipython",
    "version": 3
   },
   "file_extension": ".py",
   "mimetype": "text/x-python",
   "name": "python",
   "nbconvert_exporter": "python",
   "pygments_lexer": "ipython3",
   "version": "3.8.5"
  }
 },
 "nbformat": 4,
 "nbformat_minor": 5
}
